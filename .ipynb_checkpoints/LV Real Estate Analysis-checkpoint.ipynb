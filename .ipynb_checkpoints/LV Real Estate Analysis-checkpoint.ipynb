{
 "cells": [
  {
   "cell_type": "code",
   "execution_count": 2,
   "metadata": {},
   "outputs": [],
   "source": [
    "import pandas as pd\n",
    "import numpy as np\n",
    "import seaborn as sns\n",
    "import matplotlib.pyplot as plt"
   ]
  },
  {
   "cell_type": "code",
   "execution_count": 5,
   "metadata": {},
   "outputs": [],
   "source": [
    "data = pd.read_csv(\"data.csv\")"
   ]
  },
  {
   "cell_type": "code",
   "execution_count": 6,
   "metadata": {},
   "outputs": [
    {
     "data": {
      "text/html": [
       "<div>\n",
       "<style scoped>\n",
       "    .dataframe tbody tr th:only-of-type {\n",
       "        vertical-align: middle;\n",
       "    }\n",
       "\n",
       "    .dataframe tbody tr th {\n",
       "        vertical-align: top;\n",
       "    }\n",
       "\n",
       "    .dataframe thead th {\n",
       "        text-align: right;\n",
       "    }\n",
       "</style>\n",
       "<table border=\"1\" class=\"dataframe\">\n",
       "  <thead>\n",
       "    <tr style=\"text-align: right;\">\n",
       "      <th></th>\n",
       "      <th>Unnamed: 0</th>\n",
       "      <th>Type</th>\n",
       "      <th>Date</th>\n",
       "      <th>Num</th>\n",
       "      <th>Name</th>\n",
       "      <th>Memo</th>\n",
       "      <th>Clr</th>\n",
       "      <th>Split</th>\n",
       "      <th>Amount</th>\n",
       "      <th>Balance</th>\n",
       "    </tr>\n",
       "  </thead>\n",
       "  <tbody>\n",
       "    <tr>\n",
       "      <th>0</th>\n",
       "      <td>CHASE</td>\n",
       "      <td>NaN</td>\n",
       "      <td>NaN</td>\n",
       "      <td>NaN</td>\n",
       "      <td>NaN</td>\n",
       "      <td>NaN</td>\n",
       "      <td>NaN</td>\n",
       "      <td>NaN</td>\n",
       "      <td>NaN</td>\n",
       "      <td>NaN</td>\n",
       "    </tr>\n",
       "    <tr>\n",
       "      <th>1</th>\n",
       "      <td>NaN</td>\n",
       "      <td>Check</td>\n",
       "      <td>12/17/2014</td>\n",
       "      <td>NaN</td>\n",
       "      <td>FRANCHISE TAX BOARD</td>\n",
       "      <td>2014 chase chk #444</td>\n",
       "      <td>X</td>\n",
       "      <td>LLC Tax</td>\n",
       "      <td>-800.0</td>\n",
       "      <td>-800.0</td>\n",
       "    </tr>\n",
       "    <tr>\n",
       "      <th>2</th>\n",
       "      <td>NaN</td>\n",
       "      <td>Deposit</td>\n",
       "      <td>12/30/2014</td>\n",
       "      <td>NaN</td>\n",
       "      <td>GoldenWest Management, Inc</td>\n",
       "      <td>1828 BRIGHT LEAF 2014</td>\n",
       "      <td>X</td>\n",
       "      <td>Rental Income</td>\n",
       "      <td>12540.0</td>\n",
       "      <td>11740.0</td>\n",
       "    </tr>\n",
       "    <tr>\n",
       "      <th>3</th>\n",
       "      <td>NaN</td>\n",
       "      <td>Check</td>\n",
       "      <td>12/30/2014</td>\n",
       "      <td>NaN</td>\n",
       "      <td>GoldenWest Management, Inc</td>\n",
       "      <td>BRIGHT LEAF 2014</td>\n",
       "      <td>X</td>\n",
       "      <td>Management Fees</td>\n",
       "      <td>-900.0</td>\n",
       "      <td>10840.0</td>\n",
       "    </tr>\n",
       "    <tr>\n",
       "      <th>4</th>\n",
       "      <td>NaN</td>\n",
       "      <td>Check</td>\n",
       "      <td>12/30/2014</td>\n",
       "      <td>NaN</td>\n",
       "      <td>State Farm Fire and Casualty Company</td>\n",
       "      <td>BRIGHT LEAF 2014</td>\n",
       "      <td>X</td>\n",
       "      <td>Insurance Expense</td>\n",
       "      <td>-532.0</td>\n",
       "      <td>10308.0</td>\n",
       "    </tr>\n",
       "  </tbody>\n",
       "</table>\n",
       "</div>"
      ],
      "text/plain": [
       "  Unnamed: 0     Type        Date  Num                                  Name  \\\n",
       "0      CHASE      NaN         NaN  NaN                                   NaN   \n",
       "1        NaN    Check  12/17/2014  NaN                   FRANCHISE TAX BOARD   \n",
       "2        NaN  Deposit  12/30/2014  NaN            GoldenWest Management, Inc   \n",
       "3        NaN    Check  12/30/2014  NaN            GoldenWest Management, Inc   \n",
       "4        NaN    Check  12/30/2014  NaN  State Farm Fire and Casualty Company   \n",
       "\n",
       "                    Memo  Clr              Split   Amount  Balance  \n",
       "0                    NaN  NaN                NaN      NaN      NaN  \n",
       "1    2014 chase chk #444    X            LLC Tax   -800.0   -800.0  \n",
       "2  1828 BRIGHT LEAF 2014    X      Rental Income  12540.0  11740.0  \n",
       "3       BRIGHT LEAF 2014    X    Management Fees   -900.0  10840.0  \n",
       "4       BRIGHT LEAF 2014    X  Insurance Expense   -532.0  10308.0  "
      ]
     },
     "execution_count": 6,
     "metadata": {},
     "output_type": "execute_result"
    }
   ],
   "source": [
    "data.head()"
   ]
  },
  {
   "cell_type": "code",
   "execution_count": null,
   "metadata": {},
   "outputs": [],
   "source": []
  }
 ],
 "metadata": {
  "kernelspec": {
   "display_name": "Python 3",
   "language": "python",
   "name": "python3"
  },
  "language_info": {
   "codemirror_mode": {
    "name": "ipython",
    "version": 3
   },
   "file_extension": ".py",
   "mimetype": "text/x-python",
   "name": "python",
   "nbconvert_exporter": "python",
   "pygments_lexer": "ipython3",
   "version": "3.8.5"
  }
 },
 "nbformat": 4,
 "nbformat_minor": 4
}
