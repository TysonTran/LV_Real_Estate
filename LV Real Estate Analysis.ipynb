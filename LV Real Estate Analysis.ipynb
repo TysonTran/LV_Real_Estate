{
 "cells": [
  {
   "cell_type": "code",
   "execution_count": 2,
   "metadata": {},
   "outputs": [],
   "source": [
    "import pandas as pd\n",
    "import numpy as np\n",
    "import seaborn as sns\n",
    "import matplotlib.pyplot as plt"
   ]
  },
  {
   "cell_type": "markdown",
   "metadata": {},
   "source": [
    "## Objective: To understand how turnover affects profit in Las Vegas from 2015 - 2022"
   ]
  },
  {
   "cell_type": "code",
   "execution_count": 61,
   "metadata": {},
   "outputs": [],
   "source": [
    "data = pd.read_csv(\"data.csv\")"
   ]
  },
  {
   "cell_type": "code",
   "execution_count": 64,
   "metadata": {},
   "outputs": [
    {
     "data": {
      "text/html": [
       "<div>\n",
       "<style scoped>\n",
       "    .dataframe tbody tr th:only-of-type {\n",
       "        vertical-align: middle;\n",
       "    }\n",
       "\n",
       "    .dataframe tbody tr th {\n",
       "        vertical-align: top;\n",
       "    }\n",
       "\n",
       "    .dataframe thead th {\n",
       "        text-align: right;\n",
       "    }\n",
       "</style>\n",
       "<table border=\"1\" class=\"dataframe\">\n",
       "  <thead>\n",
       "    <tr style=\"text-align: right;\">\n",
       "      <th></th>\n",
       "      <th>Unnamed: 0</th>\n",
       "      <th>Type</th>\n",
       "      <th>Date</th>\n",
       "      <th>Num</th>\n",
       "      <th>Name</th>\n",
       "      <th>Memo</th>\n",
       "      <th>Clr</th>\n",
       "      <th>Split</th>\n",
       "      <th>Amount</th>\n",
       "      <th>Balance</th>\n",
       "    </tr>\n",
       "  </thead>\n",
       "  <tbody>\n",
       "    <tr>\n",
       "      <th>0</th>\n",
       "      <td>CHASE</td>\n",
       "      <td>NaN</td>\n",
       "      <td>NaN</td>\n",
       "      <td>NaN</td>\n",
       "      <td>NaN</td>\n",
       "      <td>NaN</td>\n",
       "      <td>NaN</td>\n",
       "      <td>NaN</td>\n",
       "      <td>NaN</td>\n",
       "      <td>NaN</td>\n",
       "    </tr>\n",
       "    <tr>\n",
       "      <th>1</th>\n",
       "      <td>NaN</td>\n",
       "      <td>Check</td>\n",
       "      <td>12/17/14</td>\n",
       "      <td>NaN</td>\n",
       "      <td>FRANCHISE TAX BOARD</td>\n",
       "      <td>2014 chase chk #444</td>\n",
       "      <td>X</td>\n",
       "      <td>LLC Tax</td>\n",
       "      <td>-800.0</td>\n",
       "      <td>-800.0</td>\n",
       "    </tr>\n",
       "    <tr>\n",
       "      <th>2</th>\n",
       "      <td>NaN</td>\n",
       "      <td>Deposit</td>\n",
       "      <td>12/30/14</td>\n",
       "      <td>NaN</td>\n",
       "      <td>GoldenWest Management, Inc</td>\n",
       "      <td>1828 BRIGHT LEAF 2014</td>\n",
       "      <td>X</td>\n",
       "      <td>Rental Income</td>\n",
       "      <td>12540.0</td>\n",
       "      <td>11740.0</td>\n",
       "    </tr>\n",
       "    <tr>\n",
       "      <th>3</th>\n",
       "      <td>NaN</td>\n",
       "      <td>Check</td>\n",
       "      <td>12/30/14</td>\n",
       "      <td>NaN</td>\n",
       "      <td>GoldenWest Management, Inc</td>\n",
       "      <td>BRIGHT LEAF 2014</td>\n",
       "      <td>X</td>\n",
       "      <td>Management Fees</td>\n",
       "      <td>-900.0</td>\n",
       "      <td>10840.0</td>\n",
       "    </tr>\n",
       "    <tr>\n",
       "      <th>4</th>\n",
       "      <td>NaN</td>\n",
       "      <td>Check</td>\n",
       "      <td>12/30/14</td>\n",
       "      <td>NaN</td>\n",
       "      <td>State Farm Fire and Casualty Company</td>\n",
       "      <td>BRIGHT LEAF 2014</td>\n",
       "      <td>X</td>\n",
       "      <td>Insurance Expense</td>\n",
       "      <td>-532.0</td>\n",
       "      <td>10308.0</td>\n",
       "    </tr>\n",
       "  </tbody>\n",
       "</table>\n",
       "</div>"
      ],
      "text/plain": [
       "  Unnamed: 0     Type      Date  Num                                  Name  \\\n",
       "0      CHASE      NaN       NaN  NaN                                   NaN   \n",
       "1        NaN    Check  12/17/14  NaN                   FRANCHISE TAX BOARD   \n",
       "2        NaN  Deposit  12/30/14  NaN            GoldenWest Management, Inc   \n",
       "3        NaN    Check  12/30/14  NaN            GoldenWest Management, Inc   \n",
       "4        NaN    Check  12/30/14  NaN  State Farm Fire and Casualty Company   \n",
       "\n",
       "                    Memo  Clr              Split   Amount  Balance  \n",
       "0                    NaN  NaN                NaN      NaN      NaN  \n",
       "1    2014 chase chk #444    X            LLC Tax   -800.0   -800.0  \n",
       "2  1828 BRIGHT LEAF 2014    X      Rental Income  12540.0  11740.0  \n",
       "3       BRIGHT LEAF 2014    X    Management Fees   -900.0  10840.0  \n",
       "4       BRIGHT LEAF 2014    X  Insurance Expense   -532.0  10308.0  "
      ]
     },
     "execution_count": 64,
     "metadata": {},
     "output_type": "execute_result"
    }
   ],
   "source": [
    "data.head()"
   ]
  },
  {
   "cell_type": "code",
   "execution_count": 65,
   "metadata": {},
   "outputs": [],
   "source": [
    "data[\"Date\"] = pd.to_datetime(data[\"Date\"])"
   ]
  },
  {
   "cell_type": "code",
   "execution_count": 66,
   "metadata": {},
   "outputs": [],
   "source": [
    "data[\"Year\"] = (data[\"Date\"].apply(lambda x: x.year))"
   ]
  },
  {
   "cell_type": "code",
   "execution_count": 67,
   "metadata": {},
   "outputs": [],
   "source": [
    "df = data.loc[data[\"Year\"].isin(np.arange(2015, 2022+1))]\n",
    "df = df.loc[df[\"Type\"].isin([\"Deposit\", \"Check\"])]"
   ]
  },
  {
   "cell_type": "code",
   "execution_count": 68,
   "metadata": {},
   "outputs": [
    {
     "data": {
      "text/plain": [
       "2"
      ]
     },
     "execution_count": 68,
     "metadata": {},
     "output_type": "execute_result"
    }
   ],
   "source": [
    "df[\"Memo\"].str.lower().str.contains(\"leaf\").isna().sum()"
   ]
  },
  {
   "cell_type": "code",
   "execution_count": null,
   "metadata": {},
   "outputs": [],
   "source": [
    "contains leaf or bright in case one is misspelled"
   ]
  },
  {
   "cell_type": "code",
   "execution_count": 53,
   "metadata": {},
   "outputs": [
    {
     "data": {
      "text/html": [
       "<div>\n",
       "<style scoped>\n",
       "    .dataframe tbody tr th:only-of-type {\n",
       "        vertical-align: middle;\n",
       "    }\n",
       "\n",
       "    .dataframe tbody tr th {\n",
       "        vertical-align: top;\n",
       "    }\n",
       "\n",
       "    .dataframe thead th {\n",
       "        text-align: right;\n",
       "    }\n",
       "</style>\n",
       "<table border=\"1\" class=\"dataframe\">\n",
       "  <thead>\n",
       "    <tr style=\"text-align: right;\">\n",
       "      <th></th>\n",
       "      <th>Type</th>\n",
       "      <th>Name</th>\n",
       "      <th>Split</th>\n",
       "      <th>Amount</th>\n",
       "      <th>Year</th>\n",
       "    </tr>\n",
       "  </thead>\n",
       "  <tbody>\n",
       "    <tr>\n",
       "      <th>19</th>\n",
       "      <td>Deposit</td>\n",
       "      <td>GoldenWest Management, Inc</td>\n",
       "      <td>Rental Income</td>\n",
       "      <td>1050.0</td>\n",
       "      <td>2015.0</td>\n",
       "    </tr>\n",
       "    <tr>\n",
       "      <th>20</th>\n",
       "      <td>Check</td>\n",
       "      <td>GoldenWest Management, Inc</td>\n",
       "      <td>Management Fees</td>\n",
       "      <td>-75.0</td>\n",
       "      <td>2015.0</td>\n",
       "    </tr>\n",
       "    <tr>\n",
       "      <th>21</th>\n",
       "      <td>Deposit</td>\n",
       "      <td>GoldenWest Management, Inc</td>\n",
       "      <td>Rental Income</td>\n",
       "      <td>1550.0</td>\n",
       "      <td>2015.0</td>\n",
       "    </tr>\n",
       "    <tr>\n",
       "      <th>22</th>\n",
       "      <td>Check</td>\n",
       "      <td>GoldenWest Management, Inc</td>\n",
       "      <td>Management Fees</td>\n",
       "      <td>-100.0</td>\n",
       "      <td>2015.0</td>\n",
       "    </tr>\n",
       "    <tr>\n",
       "      <th>23</th>\n",
       "      <td>Check</td>\n",
       "      <td>State Farm Fire and Casualty Company</td>\n",
       "      <td>Insurance Expense</td>\n",
       "      <td>-536.0</td>\n",
       "      <td>2015.0</td>\n",
       "    </tr>\n",
       "    <tr>\n",
       "      <th>...</th>\n",
       "      <td>...</td>\n",
       "      <td>...</td>\n",
       "      <td>...</td>\n",
       "      <td>...</td>\n",
       "      <td>...</td>\n",
       "    </tr>\n",
       "    <tr>\n",
       "      <th>744</th>\n",
       "      <td>Check</td>\n",
       "      <td>GoldenWest Management, Inc</td>\n",
       "      <td>Management Fees</td>\n",
       "      <td>-175.0</td>\n",
       "      <td>2022.0</td>\n",
       "    </tr>\n",
       "    <tr>\n",
       "      <th>745</th>\n",
       "      <td>Check</td>\n",
       "      <td>GoldenWest Management, Inc</td>\n",
       "      <td>Management Fees</td>\n",
       "      <td>-150.0</td>\n",
       "      <td>2022.0</td>\n",
       "    </tr>\n",
       "    <tr>\n",
       "      <th>746</th>\n",
       "      <td>Deposit</td>\n",
       "      <td>GoldenWest Management, Inc</td>\n",
       "      <td>Management Fees</td>\n",
       "      <td>175.0</td>\n",
       "      <td>2022.0</td>\n",
       "    </tr>\n",
       "    <tr>\n",
       "      <th>748</th>\n",
       "      <td>Check</td>\n",
       "      <td>ELDORADO THIRD CA</td>\n",
       "      <td>Community Association Fee</td>\n",
       "      <td>-69.0</td>\n",
       "      <td>2022.0</td>\n",
       "    </tr>\n",
       "    <tr>\n",
       "      <th>749</th>\n",
       "      <td>Check</td>\n",
       "      <td>MOUNTAINS EDGE MASTER ASSOCIATION</td>\n",
       "      <td>Community Association Fee</td>\n",
       "      <td>-192.0</td>\n",
       "      <td>2022.0</td>\n",
       "    </tr>\n",
       "  </tbody>\n",
       "</table>\n",
       "<p>717 rows × 5 columns</p>\n",
       "</div>"
      ],
      "text/plain": [
       "        Type                                  Name                      Split  \\\n",
       "19   Deposit            GoldenWest Management, Inc              Rental Income   \n",
       "20     Check            GoldenWest Management, Inc            Management Fees   \n",
       "21   Deposit            GoldenWest Management, Inc              Rental Income   \n",
       "22     Check            GoldenWest Management, Inc            Management Fees   \n",
       "23     Check  State Farm Fire and Casualty Company          Insurance Expense   \n",
       "..       ...                                   ...                        ...   \n",
       "744    Check            GoldenWest Management, Inc            Management Fees   \n",
       "745    Check            GoldenWest Management, Inc            Management Fees   \n",
       "746  Deposit            GoldenWest Management, Inc            Management Fees   \n",
       "748    Check                     ELDORADO THIRD CA  Community Association Fee   \n",
       "749    Check     MOUNTAINS EDGE MASTER ASSOCIATION  Community Association Fee   \n",
       "\n",
       "     Amount    Year  \n",
       "19   1050.0  2015.0  \n",
       "20    -75.0  2015.0  \n",
       "21   1550.0  2015.0  \n",
       "22   -100.0  2015.0  \n",
       "23   -536.0  2015.0  \n",
       "..      ...     ...  \n",
       "744  -175.0  2022.0  \n",
       "745  -150.0  2022.0  \n",
       "746   175.0  2022.0  \n",
       "748   -69.0  2022.0  \n",
       "749  -192.0  2022.0  \n",
       "\n",
       "[717 rows x 5 columns]"
      ]
     },
     "execution_count": 53,
     "metadata": {},
     "output_type": "execute_result"
    }
   ],
   "source": [
    "df.drop([\"Unnamed: 0\", \"Date\", \"Num\", \"Memo\", \"Clr\", \"Balance\"], axis=1)"
   ]
  },
  {
   "cell_type": "code",
   "execution_count": null,
   "metadata": {},
   "outputs": [],
   "source": [
    "Split = [\"Rental Income\", \"Management Fees\", \"Community Association Fee\", \"Insurance Expense\", \"Repairs and Maintenace\", \"LLC Tax\", \"Utilities\"]"
   ]
  },
  {
   "cell_type": "code",
   "execution_count": null,
   "metadata": {},
   "outputs": [],
   "source": [
    "If looking at community association fee for Fort Pike look at \"MOUNTAINS EDGE MASTER ASSOCIATION\"\n",
    "\n",
    "Clark county water reclamation is fort pike"
   ]
  }
 ],
 "metadata": {
  "kernelspec": {
   "display_name": "Python 3",
   "language": "python",
   "name": "python3"
  },
  "language_info": {
   "codemirror_mode": {
    "name": "ipython",
    "version": 3
   },
   "file_extension": ".py",
   "mimetype": "text/x-python",
   "name": "python",
   "nbconvert_exporter": "python",
   "pygments_lexer": "ipython3",
   "version": "3.8.5"
  }
 },
 "nbformat": 4,
 "nbformat_minor": 4
}
